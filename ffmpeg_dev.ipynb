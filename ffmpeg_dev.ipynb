{
 "cells": [
  {
   "cell_type": "code",
   "execution_count": 1,
   "metadata": {},
   "outputs": [],
   "source": [
    "%load_ext autoreload\n",
    "%autoreload 2"
   ]
  },
  {
   "cell_type": "code",
   "execution_count": 2,
   "metadata": {},
   "outputs": [],
   "source": [
    "%matplotlib inline\n",
    "import xarray as xr\n",
    "from xmovie import Movie\n",
    "\n",
    "ds = xr.tutorial.open_dataset('air_temperature').isel(time=slice(0,150))\n",
    "mov = Movie(ds.air)"
   ]
  },
  {
   "cell_type": "code",
   "execution_count": null,
   "metadata": {},
   "outputs": [],
   "source": [
    "# preview 10th frame\n",
    "mov.preview(10)\n",
    "# preview 100th frame. Note the rotation\n",
    "mov.preview(100)"
   ]
  },
  {
   "cell_type": "code",
   "execution_count": null,
   "metadata": {},
   "outputs": [],
   "source": [
    "mov.save('movie.gif', remove_movie=False, progress=True)"
   ]
  },
  {
   "cell_type": "code",
   "execution_count": null,
   "metadata": {},
   "outputs": [],
   "source": [
    "from xmovie.presets import rotating_globe_dark\n",
    "mov = Movie(ds.air, rotating_globe_dark, plotmethod='contourf', coastline=False, land=True)\n",
    "mov.save('movie_contf.gif')"
   ]
  },
  {
   "cell_type": "code",
   "execution_count": null,
   "metadata": {},
   "outputs": [],
   "source": [
    "mov = Movie(ds.air, rotating_globe_dark, plotmethod='contour', coastline=False, land=True)\n",
    "mov.save('movie_cont.gif')"
   ]
  },
  {
   "cell_type": "code",
   "execution_count": null,
   "metadata": {},
   "outputs": [],
   "source": [
    "import numpy as np\n",
    "ds = xr.tutorial.open_dataset('rasm').Tair\n",
    "\n",
    "# Interpolate time for smoother animation\n",
    "ds['time'].data = np.arange(len(ds['time']))\n",
    "ds = ds.interp(time=np.linspace(0,10, 60))\n",
    "\n",
    "mov = Movie(ds, rotating_globe_dark,\n",
    "            cmap='RdYlBu_r',\n",
    "            x='xc',\n",
    "            y='yc', #accepts keyword arguments from the xarray plotting interface\n",
    "            lat_start=45, # Custom keywords from `rotating_globe_dark\n",
    "            lon_rotations=0.2)\n",
    "mov.save('movie_rasm.gif')"
   ]
  },
  {
   "cell_type": "code",
   "execution_count": null,
   "metadata": {},
   "outputs": [],
   "source": [
    "# some awesome static plot\n",
    "import matplotlib.pyplot as plt\n",
    "\n",
    "ds = xr.tutorial.open_dataset('rasm').Tair\n",
    "fig = plt.figure(figsize=[10,5])\n",
    "tt = 30\n",
    "\n",
    "station = dict(x=100, y=150)\n",
    "ds_station = ds.sel(**station)\n",
    "\n",
    "(ax1, ax2) = fig.subplots(ncols=2)\n",
    "ds.isel(time=tt).plot(ax=ax1)\n",
    "ax1.plot(station['x'], station['y'], marker='*', color='k' ,markersize=15)\n",
    "ax1.text(station['x']+4, station['y']+4, 'Station', color='k' )\n",
    "ax1.set_aspect(1)\n",
    "ax1.set_facecolor('0.5')\n",
    "ax1.set_title('');\n",
    "\n",
    "# Time series\n",
    "ds_station.isel(time=slice(0,tt+1)).plot.line(ax=ax2, x='time')\n",
    "ax2.set_xlim(ds.time.min().data, ds.time.max().data)\n",
    "ax2.set_ylim(ds_station.min(), ds_station.max())\n",
    "ax2.set_title('Data at station');\n",
    "\n",
    "fig.subplots_adjust(wspace=0.6)"
   ]
  },
  {
   "cell_type": "code",
   "execution_count": null,
   "metadata": {},
   "outputs": [],
   "source": [
    "def custom_plotfunc(ds, fig, tt):\n",
    "    # Define station location for timeseries\n",
    "    station = dict(x=100, y=150)\n",
    "    ds_station = ds.sel(**station)\n",
    "\n",
    "    (ax1, ax2) = fig.subplots(ncols=2)\n",
    "    \n",
    "    # Map axis\n",
    "    # Colorlimits need to be fixed or your video is going to cause seizures.\n",
    "    # This is the only modification from the code above!\n",
    "    ds.isel(time=tt).plot(ax=ax1, vmin=ds.min(), vmax=ds.max(), cmap='RdBu_r')\n",
    "    ax1.plot(station['x'], station['y'], marker='*', color='k' ,markersize=15)\n",
    "    ax1.text(station['x']+4, station['y']+4, 'Station', color='k' )\n",
    "    ax1.set_aspect(1)\n",
    "    ax1.set_facecolor('0.5')\n",
    "    ax1.set_title('');\n",
    "\n",
    "    # Time series\n",
    "    ds_station.isel(time=slice(0,tt+1)).plot.line(ax=ax2, x='time')\n",
    "    ax2.set_xlim(ds.time.min().data, ds.time.max().data)\n",
    "    ax2.set_ylim(ds_station.min(), ds_station.max())\n",
    "    ax2.set_title('Data at station');\n",
    "\n",
    "    fig.subplots_adjust(wspace=0.4)\n",
    "\n",
    "dss = xr.tutorial.open_dataset('rasm').Tair\n",
    "mov_custom = Movie(dss, custom_plotfunc)\n",
    "mov_custom.preview(30)"
   ]
  },
  {
   "cell_type": "code",
   "execution_count": null,
   "metadata": {},
   "outputs": [],
   "source": [
    "mov_custom.save('movie_custom.gif') "
   ]
  },
  {
   "cell_type": "code",
   "execution_count": null,
   "metadata": {},
   "outputs": [],
   "source": []
  },
  {
   "cell_type": "code",
   "execution_count": null,
   "metadata": {},
   "outputs": [],
   "source": []
  },
  {
   "cell_type": "code",
   "execution_count": null,
   "metadata": {},
   "outputs": [],
   "source": []
  },
  {
   "cell_type": "code",
   "execution_count": null,
   "metadata": {},
   "outputs": [],
   "source": [
    "import xarray as xr\n",
    "from xmovie import Movie"
   ]
  },
  {
   "cell_type": "markdown",
   "metadata": {},
   "source": [
    "## TODO for this feature\n",
    "- [x] Clean up progress/verbose kwargs. I need fine grained control over frame progress and ffmpeg progress.\n",
    "- [x] Start CI\n",
    "\n",
    "## Pushed to next feature branch:\n",
    "- [ ] Start Docs\n",
    "- [ ] Add automatic gif conversion???\n",
    "- [ ] Expand options for ffmpeg conversion + gif conversion\n",
    "- [ ] Trigger all warnings that come with the plotfunction with an example frame (invisible)"
   ]
  },
  {
   "cell_type": "markdown",
   "metadata": {},
   "source": [
    "# Documentation\n",
    "## Basic use"
   ]
  },
  {
   "cell_type": "code",
   "execution_count": null,
   "metadata": {},
   "outputs": [],
   "source": [
    "# Load example dataset\n",
    "ds = xr.tutorial.open_dataset('air_temperature').load().isel(time=slice(0,20))\n",
    "ds['airx4'] = ds['air'] * 4\n",
    "ds"
   ]
  },
  {
   "cell_type": "markdown",
   "metadata": {},
   "source": [
    "### Setting up the movie object"
   ]
  },
  {
   "cell_type": "markdown",
   "metadata": {},
   "source": [
    "The simplest way to create a movie is to pass a dataarray to `Movie`.\n",
    "You can simply preview the movie frame with the `Movie.preview` function."
   ]
  },
  {
   "cell_type": "code",
   "execution_count": null,
   "metadata": {},
   "outputs": [],
   "source": [
    "mov = Movie(ds.air)\n",
    "mov.preview(10);\n",
    "# I havent figured out how to return a fig from `Movie.preview` without it plotting twice..."
   ]
  },
  {
   "cell_type": "markdown",
   "metadata": {},
   "source": [
    "If a dataset is supplied, xmovie chooses the first data_variable."
   ]
  },
  {
   "cell_type": "code",
   "execution_count": null,
   "metadata": {},
   "outputs": [],
   "source": [
    "mov = Movie(ds)\n",
    "mov.preview(10);"
   ]
  },
  {
   "cell_type": "markdown",
   "metadata": {},
   "source": [
    "You can choose which variable to plot with `plot_variable`. This will enable to visualize several variables at the same time (feature not quite ready yet, but coming soon)."
   ]
  },
  {
   "cell_type": "code",
   "execution_count": null,
   "metadata": {},
   "outputs": [],
   "source": [
    "mov = Movie(ds, plot_variable='airx4')\n",
    "mov.preview(10);"
   ]
  },
  {
   "cell_type": "markdown",
   "metadata": {},
   "source": [
    "## Creating a movie\n",
    "Now you can save out a movie"
   ]
  },
  {
   "cell_type": "code",
   "execution_count": null,
   "metadata": {},
   "outputs": [],
   "source": [
    "mov.save('movie.mp4') #Thats it!"
   ]
  },
  {
   "cell_type": "code",
   "execution_count": null,
   "metadata": {},
   "outputs": [],
   "source": [
    "from IPython.display import HTML\n",
    "HTML(\"\"\"\n",
    "<video width=\"500\" controls>\n",
    "  <source src=\"movie.mp4\" type=\"video/mp4\">\n",
    "</video>\n",
    "\"\"\")\n",
    "\n",
    "# How can I display this easily in the docs?"
   ]
  },
  {
   "cell_type": "markdown",
   "metadata": {},
   "source": [
    "You can also create a gif animation simply by changing the output filename extension to `.gif`.\n",
    "> The gif is created by first creating a movie and then converting it. If you choose the same filename as an existing movie, you will get an Error"
   ]
  },
  {
   "cell_type": "code",
   "execution_count": null,
   "metadata": {},
   "outputs": [],
   "source": [
    "mov.save('animation.gif')"
   ]
  },
  {
   "cell_type": "markdown",
   "metadata": {},
   "source": [
    "Rendering out all frames can take a while, especially with higher resolution fields. With the optional depenceny `tqdm` you can display a progress bar."
   ]
  },
  {
   "cell_type": "markdown",
   "metadata": {},
   "source": [
    "In many cases it is useful to have both a high quality movie and a lower resolution gif of the same animation. If that is desired, just deactivate the `remove_movie` option and give a filename with `.gif`. xmovie will first render a high quality movie and then convert it to a gif, without removing the movie afterwards."
   ]
  },
  {
   "cell_type": "code",
   "execution_count": null,
   "metadata": {},
   "outputs": [],
   "source": [
    "mov.save('movie_progress.mp4', progress=True)"
   ]
  },
  {
   "cell_type": "code",
   "execution_count": null,
   "metadata": {},
   "outputs": [],
   "source": []
  },
  {
   "cell_type": "code",
   "execution_count": null,
   "metadata": {},
   "outputs": [],
   "source": [
    "mov.save('combo.gif',remove_movie=False)"
   ]
  },
  {
   "cell_type": "markdown",
   "metadata": {},
   "source": [
    "# Dask save dev"
   ]
  },
  {
   "cell_type": "code",
   "execution_count": null,
   "metadata": {},
   "outputs": [
    {
     "name": "stderr",
     "output_type": "stream",
     "text": [
      "  0%|          | 0/150 [00:00<?, ?it/s]/Users/juliusbusecke/miniconda/envs/standard/lib/python3.6/site-packages/cartopy/io/__init__.py:260: DownloadWarning: Downloading: http://naciscdn.org/naturalearth/50m/physical/ne_50m_coastline.zip\n",
      "  warnings.warn('Downloading: {}'.format(url), DownloadWarning)\n",
      " 42%|████▏     | 63/150 [01:03<01:30,  1.04s/it]"
     ]
    }
   ],
   "source": [
    "%%time\n",
    "mov.save('dask_test_serial.gif', remove_movie=False, progress=True)"
   ]
  },
  {
   "cell_type": "code",
   "execution_count": null,
   "metadata": {},
   "outputs": [],
   "source": [
    "%%time\n",
    "mov.save('dask_test_parallel.mp4', parallel=True, remove_movie=False, progress=True)"
   ]
  }
 ],
 "metadata": {
  "kernelspec": {
   "display_name": "Python 3",
   "language": "python",
   "name": "python3"
  },
  "language_info": {
   "codemirror_mode": {
    "name": "ipython",
    "version": 3
   },
   "file_extension": ".py",
   "mimetype": "text/x-python",
   "name": "python",
   "nbconvert_exporter": "python",
   "pygments_lexer": "ipython3",
   "version": "3.6.6"
  },
  "varInspector": {
   "cols": {
    "lenName": 16,
    "lenType": 16,
    "lenVar": 40
   },
   "kernels_config": {
    "python": {
     "delete_cmd_postfix": "",
     "delete_cmd_prefix": "del ",
     "library": "var_list.py",
     "varRefreshCmd": "print(var_dic_list())"
    },
    "r": {
     "delete_cmd_postfix": ") ",
     "delete_cmd_prefix": "rm(",
     "library": "var_list.r",
     "varRefreshCmd": "cat(var_dic_list()) "
    }
   },
   "types_to_exclude": [
    "module",
    "function",
    "builtin_function_or_method",
    "instance",
    "_Feature"
   ],
   "window_display": false
  }
 },
 "nbformat": 4,
 "nbformat_minor": 2
}
